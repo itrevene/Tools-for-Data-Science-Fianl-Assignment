{
 "cells": [
  {
   "cell_type": "markdown",
   "metadata": {},
   "source": [
    "<center>\n",
    "    <img src=\"https://cf-courses-data.s3.us.cloud-object-storage.appdomain.cloud/IBMDeveloperSkillsNetwork-DS0105EN-SkillsNetwork/labs/Module2/images/SN_web_lightmode.png\" width=\"300\" alt=\"cognitiveclass.ai logo\">\n",
    "</center>\n"
   ]
  },
  {
   "cell_type": "markdown",
   "metadata": {},
   "source": [
    "#### Add your code below following the instructions given in the course\n"
   ]
  },
  {
   "cell_type": "markdown",
   "metadata": {},
   "source": [
    "Tools for Data Science Final Assignment"
   ]
  },
  {
   "cell_type": "markdown",
   "metadata": {},
   "source": [
    "Author: Isaac Trevenen"
   ]
  },
  {
   "cell_type": "markdown",
   "metadata": {},
   "source": [
    "Introduction: This assignment consists of 13 exercises to be completed below"
   ]
  },
  {
   "cell_type": "markdown",
   "metadata": {},
   "source": [
    "Objectives: \n",
    " - Demonstrate ability to operate Jupyter Notebook\n",
    " - Demonstrate ability to operate GitHub\n",
    " - List useful data science knowledge including tools, libraries, and languages\n",
    " - Create a table in Jupyter Notebook\n",
    " - Perform some mathematics operations in Jupyter Notebook"
   ]
  },
  {
   "cell_type": "markdown",
   "metadata": {},
   "source": [
    "Data Science Languages include: Python, R, SQL, \n",
    "Java, Julia, Scala, C/C++, and JavaScript"
   ]
  },
  {
   "cell_type": "markdown",
   "metadata": {},
   "source": [
    "Data Science Libraries include: SciPy, Pandas, Matplotlib, Keras, SciKit-Learn, Bob, PyBrain, Caffe2, Chainer, PyTorch, Scrapy, BeautifulSoup, LightGBM, ELI5, TensorFlow, NumPy, Theano, NuPIC, Ramp, and Pipenv"
   ]
  },
  {
   "cell_type": "markdown",
   "metadata": {},
   "source": [
    "|Data Science tools|\n",
    "|------------------|\n",
    "|Apache Spark      |\n",
    "|BigML             |\n",
    "|SAS               |"
   ]
  },
  {
   "cell_type": "markdown",
   "metadata": {},
   "source": [
    "Exercise 7 Arithmetic Expressions"
   ]
  },
  {
   "cell_type": "markdown",
   "metadata": {
    "tags": []
   },
   "source": [
    "example = compile(\"11 + 11\", \"<string>\", \"eval\")\n",
    "eval(example)"
   ]
  },
  {
   "cell_type": "markdown",
   "metadata": {},
   "source": [
    "Exercise 8 code cell to multiply and add"
   ]
  },
  {
   "cell_type": "code",
   "execution_count": 6,
   "metadata": {
    "tags": []
   },
   "outputs": [
    {
     "data": {
      "text/plain": [
       "252"
      ]
     },
     "execution_count": 6,
     "metadata": {},
     "output_type": "execute_result"
    }
   ],
   "source": [
    "(6*6*6)+36\n",
    "\n",
    "#Result = 252"
   ]
  },
  {
   "cell_type": "markdown",
   "metadata": {},
   "source": [
    "Exercise 9 Convert mins to hours"
   ]
  },
  {
   "cell_type": "code",
   "execution_count": 12,
   "metadata": {
    "tags": []
   },
   "outputs": [
    {
     "name": "stdout",
     "output_type": "stream",
     "text": [
      "185 minutes is equal to 3.0833333333333335 Hours.\n"
     ]
    }
   ],
   "source": [
    "#185 minutes to hours\n",
    "\n",
    "mins = 185\n",
    "hours = (mins/60)\n",
    "print(str(mins) + \" minutes is equal to \"+ str(hours) + \" Hours.\")\n",
    "\n",
    "# Result = 185 minutes is equal to 3.0833333333333335 Hours."
   ]
  }
 ],
 "metadata": {
  "kernelspec": {
   "display_name": "Python",
   "language": "python",
   "name": "conda-env-python-py"
  },
  "language_info": {
   "codemirror_mode": {
    "name": "ipython",
    "version": 3
   },
   "file_extension": ".py",
   "mimetype": "text/x-python",
   "name": "python",
   "nbconvert_exporter": "python",
   "pygments_lexer": "ipython3",
   "version": "3.7.12"
  }
 },
 "nbformat": 4,
 "nbformat_minor": 4
}
